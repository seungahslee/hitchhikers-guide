{
  "nbformat": 4,
  "nbformat_minor": 0,
  "metadata": {
    "colab": {
      "name": "Lecture_1.ipynb",
      "version": "0.3.2",
      "provenance": [],
      "include_colab_link": true
    },
    "language_info": {
      "codemirror_mode": {
        "name": "ipython",
        "version": 3
      },
      "file_extension": ".py",
      "mimetype": "text/x-python",
      "name": "python",
      "nbconvert_exporter": "python",
      "pygments_lexer": "ipython3",
      "version": "3.7.2"
    },
    "kernelspec": {
      "display_name": "Python 3",
      "language": "python",
      "name": "python3"
    }
  },
  "cells": [
    {
      "cell_type": "markdown",
      "metadata": {
        "id": "view-in-github",
        "colab_type": "text"
      },
      "source": [
        "<a href=\"https://colab.research.google.com/github/seungahslee/hitchhikers-guide/blob/master/Lecture_1.ipynb\" target=\"_parent\"><img src=\"https://colab.research.google.com/assets/colab-badge.svg\" alt=\"Open In Colab\"/></a>"
      ]
    },
    {
      "metadata": {
        "id": "XefllpjFIURQ",
        "colab_type": "text"
      },
      "cell_type": "markdown",
      "source": [
        "# CME 193 - Introduction to Scientific Python\n",
        "\n",
        "\n",
        "## Course Logistics\n",
        "\n",
        "**Instructor:** Casey Chu (caseychu@stanford.edu, but private post on Piazza preferred)\n",
        "\n",
        "**Course website:** [cme193.stanford.edu](http://cme193.stanford.edu).\n",
        "Please check there for any materials related for the course (and let me know if something needs to be updated).\n",
        "\n",
        "**Class:** We'll intersperse lecture with breaks to work on exercises.  These breaks are good chances to try out what you learn, and ask for help if you're stuck.  You aren't required to submit solutions to the exercises, and should focus on exercises you find most interesting if there are multiple options.\n",
        "\n",
        "**Piazza:** [piazza.com/stanford/spring2019/cme193](http://piazza.com/stanford/spring2019/cme193). Post here if you have any questions related to the course.  I also encourage you to help answer questions on Piazza, as this is a great way to improve your Python skills as well.  If you have any questions that you would send via email, I would prefer you instead post them as a private post on Piazza.\n",
        "\n",
        "**Homework:** We'll have 2 homeworks, which should not be difficult or time consuming, but a chance to practice what we cover in class. Feel free to discuss the problems with other students in the class, but the final code you submit should be written by you.\n",
        "\n",
        "**Grading:** This class is offered on a credit/no-credit basis.  Really, you're going to get out of it what you put into it.  My assumption is that you are taking the course because you see it as relevant to your education, and will try to learn material that you see as most important.\n",
        "\n",
        "**Office hours:** Tuesdays 1:30-3:30 (Huang basement, either in the ICME lobby or directly outside)."
      ]
    },
    {
      "metadata": {
        "id": "5GOcJVPEIURR",
        "colab_type": "text"
      },
      "cell_type": "markdown",
      "source": [
        "# Overview of Course\n",
        "\n",
        "You can find a list of topics we plan to cover on the [course website](http://web.stanford.edu/class/cme193/syllabus.html).  \n",
        "\n",
        "Here is a tentative list of lectures:\n",
        "1. Python basics\n",
        "1. NumPy basics\n",
        "1. Linear algebra (NumPy)\n",
        "1. Numerical algorithms (NumPy)\n",
        "1. Scientific computing (SciPy)\n",
        "1. Data science (Pandas)\n",
        "1. Machine learning (scikit-learn)\n",
        "1. Deep learning (PyTorch)\n",
        "\n",
        "The goal of the course is to get you started with using Python for scientific computing.\n",
        "* We **are** going to cover common packages for linear algebra, optimization, and data science\n",
        "* We are **not** going to cover all of the Python language, or all of its applications\n",
        "    * We will cover aspects of the Python language as they are needed for our purposes\n",
        "\n",
        "This course is designed for\n",
        "* People who already know how to program (maybe not in Python)\n",
        "* People who want to use Python for research/coursework in a scientific or engineering discipline for modeling, simulations, or data science\n",
        "\n",
        "You don't need to have an expert background in programming or scientific computing to take this course.  Everyone starts somewhere, and if your interests are aligned with the goals of the course you should be ok."
      ]
    },
    {
      "metadata": {
        "id": "jxO0HLSOIURS",
        "colab_type": "text"
      },
      "cell_type": "markdown",
      "source": [
        "# Python"
      ]
    },
    {
      "metadata": {
        "id": "oahz194HIURT",
        "colab_type": "text"
      },
      "cell_type": "markdown",
      "source": [
        "![xkcd_python](https://imgs.xkcd.com/comics/python.png)\n",
        "(From [xkcd](https://xkcd.com/))"
      ]
    },
    {
      "metadata": {
        "id": "XVSSgNC4IURU",
        "colab_type": "code",
        "colab": {}
      },
      "cell_type": "code",
      "source": [
        "print(\"Hello, world!\")"
      ],
      "execution_count": 0,
      "outputs": []
    },
    {
      "metadata": {
        "id": "eujS4XX9IURX",
        "colab_type": "code",
        "colab": {}
      },
      "cell_type": "code",
      "source": [
        "import math\n",
        "print(math.pi)"
      ],
      "execution_count": 0,
      "outputs": []
    },
    {
      "metadata": {
        "id": "o19Vz6mkIURZ",
        "colab_type": "text"
      },
      "cell_type": "markdown",
      "source": [
        "# Variables\n",
        "\n",
        "One of the main differences in python compared to other languages you might be familiar with is that variables are not declared and are not strongly typed"
      ]
    },
    {
      "metadata": {
        "id": "tJwBcg9CIURZ",
        "colab_type": "code",
        "colab": {}
      },
      "cell_type": "code",
      "source": [
        "x = 1\n",
        "print(x)"
      ],
      "execution_count": 0,
      "outputs": []
    },
    {
      "metadata": {
        "id": "HlHcAz7nIURc",
        "colab_type": "code",
        "colab": {}
      },
      "cell_type": "code",
      "source": [
        "y = \"test\""
      ],
      "execution_count": 0,
      "outputs": []
    },
    {
      "metadata": {
        "id": "fNZhMEP7IURg",
        "colab_type": "code",
        "colab": {}
      },
      "cell_type": "code",
      "source": [
        "print(y)"
      ],
      "execution_count": 0,
      "outputs": []
    },
    {
      "metadata": {
        "id": "YbWPJzLsIURi",
        "colab_type": "code",
        "colab": {}
      },
      "cell_type": "code",
      "source": [
        "x = 1\n",
        "x = \"string\"\n",
        "print(x)"
      ],
      "execution_count": 0,
      "outputs": []
    },
    {
      "metadata": {
        "id": "IMqqWnRCIURk",
        "colab_type": "code",
        "colab": {}
      },
      "cell_type": "code",
      "source": [
        "x = 1\n",
        "print(type(x))"
      ],
      "execution_count": 0,
      "outputs": []
    },
    {
      "metadata": {
        "id": "QIme1w09IURp",
        "colab_type": "code",
        "colab": {}
      },
      "cell_type": "code",
      "source": [
        "x = \"string\"\n",
        "print(type(x))"
      ],
      "execution_count": 0,
      "outputs": []
    },
    {
      "metadata": {
        "id": "uFFYKTbmIURs",
        "colab_type": "code",
        "colab": {}
      },
      "cell_type": "code",
      "source": [
        "x = 0.1\n",
        "print(type(x))"
      ],
      "execution_count": 0,
      "outputs": []
    },
    {
      "metadata": {
        "id": "ngl_miV8IURw",
        "colab_type": "code",
        "colab": {}
      },
      "cell_type": "code",
      "source": [
        "x = 0.1\n",
        "type(x)"
      ],
      "execution_count": 0,
      "outputs": []
    },
    {
      "metadata": {
        "id": "miBSOATnIUR0",
        "colab_type": "code",
        "colab": {}
      },
      "cell_type": "code",
      "source": [
        "x"
      ],
      "execution_count": 0,
      "outputs": []
    },
    {
      "metadata": {
        "id": "k3JQy6CtIUR2",
        "colab_type": "code",
        "colab": {}
      },
      "cell_type": "code",
      "source": [
        ""
      ],
      "execution_count": 0,
      "outputs": []
    },
    {
      "metadata": {
        "id": "0KCk4qISIUR3",
        "colab_type": "text"
      },
      "cell_type": "markdown",
      "source": [
        "# Basic Arithmetic\n",
        "\n",
        "Operators for integers:\n",
        "`+ - * / % **`\n",
        "\n",
        "Operators for floats:\n",
        "`+ - * / **`\n",
        "\n",
        "Boolean expressions:\n",
        "* keywords: `True` and `False` (note capitalization)\n",
        "* `==` equals: `5 == 5` yields `True`\n",
        "* `!=` does not equal: `5 != 5` yields `False`\n",
        "* `>` greater than: `5 > 4` yields `True`\n",
        "* `>=` greater than or equal: `5 >= 5` yields `True`\n",
        "* Similarly, we have `<` and `<=`.\n",
        "\n",
        "Logical operators:\n",
        "* `and`, `or`, and `not`\n",
        "* `True and False`\n",
        "* `True or False`\n",
        "* `not True`"
      ]
    },
    {
      "metadata": {
        "id": "Y8dJFdn_IUR4",
        "colab_type": "code",
        "colab": {}
      },
      "cell_type": "code",
      "source": [
        ""
      ],
      "execution_count": 0,
      "outputs": []
    },
    {
      "metadata": {
        "id": "Air-rjDOIUR6",
        "colab_type": "text"
      },
      "cell_type": "markdown",
      "source": [
        "# Strings\n",
        "\n",
        "Concatenation: `str1 + str2`\n",
        "\n",
        "Printing: `print(str1)`"
      ]
    },
    {
      "metadata": {
        "id": "0nDREvZMIUR6",
        "colab_type": "code",
        "colab": {}
      },
      "cell_type": "code",
      "source": [
        "str1 = \"Hello, \"\n",
        "str2 = \"World!\"\n",
        "str3 = str1 + str2\n",
        "str3"
      ],
      "execution_count": 0,
      "outputs": []
    },
    {
      "metadata": {
        "id": "7VwXFivIIUR8",
        "colab_type": "code",
        "colab": {}
      },
      "cell_type": "code",
      "source": [
        "print(str3)"
      ],
      "execution_count": 0,
      "outputs": []
    },
    {
      "metadata": {
        "id": "fEDvo0IsIUR-",
        "colab_type": "text"
      },
      "cell_type": "markdown",
      "source": [
        "Formatting:"
      ]
    },
    {
      "metadata": {
        "id": "E4O0Vx7_IUR-",
        "colab_type": "code",
        "colab": {}
      },
      "cell_type": "code",
      "source": [
        "x = 23\n",
        "y = 52\n",
        "name = \"Alice\"\n",
        "\n",
        "str1 = f\"{name}'s numbers are {x} and {y}, and their sum is {x + y}\"\n",
        "str1"
      ],
      "execution_count": 0,
      "outputs": []
    },
    {
      "metadata": {
        "id": "_KQPwqdcIUSB",
        "colab_type": "code",
        "colab": {}
      },
      "cell_type": "code",
      "source": [
        "str1 = \"a: %s\" % \"string\"\n",
        "print(str1)\n",
        "str2 = \"b: %f, %s, %d\" % (1.0, 'hello', 5)\n",
        "print(str2)\n",
        "str3 = \"c: {}\".format(3.14)\n",
        "print(str3)"
      ],
      "execution_count": 0,
      "outputs": []
    },
    {
      "metadata": {
        "id": "vYobCJPrIUSF",
        "colab_type": "code",
        "colab": {}
      },
      "cell_type": "code",
      "source": [
        "# some methods\n",
        "str1 = \"Hello, World!\"\n",
        "print(str1)\n",
        "print(str1.upper())\n",
        "print(str1.lower())"
      ],
      "execution_count": 0,
      "outputs": []
    },
    {
      "metadata": {
        "id": "i5Nluby6IUSI",
        "colab_type": "code",
        "colab": {}
      },
      "cell_type": "code",
      "source": [
        "str1.replace?"
      ],
      "execution_count": 0,
      "outputs": []
    },
    {
      "metadata": {
        "id": "_0zXizrRIUSK",
        "colab_type": "code",
        "colab": {}
      },
      "cell_type": "code",
      "source": [
        "str1.replace('l', 'p')"
      ],
      "execution_count": 0,
      "outputs": []
    },
    {
      "metadata": {
        "id": "UpD3bmnWIUSO",
        "colab_type": "text"
      },
      "cell_type": "markdown",
      "source": [
        "# Control Flow\n",
        "\n",
        "If statements:"
      ]
    },
    {
      "metadata": {
        "id": "KFrxajr4IUSP",
        "colab_type": "code",
        "colab": {}
      },
      "cell_type": "code",
      "source": [
        "x = 1\n",
        "y = 1\n",
        "z = 2\n",
        "if x == y:\n",
        "    print(\"Hello\")\n",
        "elif x == z:\n",
        "    print(\"Goodbye\")\n",
        "else:\n",
        "    print(\"???\")"
      ],
      "execution_count": 0,
      "outputs": []
    },
    {
      "metadata": {
        "id": "0ccCxemIIUSW",
        "colab_type": "text"
      },
      "cell_type": "markdown",
      "source": [
        "**For loops**\n"
      ]
    },
    {
      "metadata": {
        "id": "33nsgB7iIUSX",
        "colab_type": "code",
        "colab": {}
      },
      "cell_type": "code",
      "source": [
        "print(\"loop 1\")\n",
        "for i in range(5): # default - start at 0, increment by 1\n",
        "    print(i)\n",
        "\n",
        "print(\"\\nloop 2\")\n",
        "for i in range(10, 2, -2): # inputs are start, stop, step\n",
        "    print(i)"
      ],
      "execution_count": 0,
      "outputs": []
    },
    {
      "metadata": {
        "id": "tyKLdIGKIUSb",
        "colab_type": "code",
        "colab": {}
      },
      "cell_type": "code",
      "source": [
        ""
      ],
      "execution_count": 0,
      "outputs": []
    },
    {
      "metadata": {
        "id": "E1bDhJl4IUSc",
        "colab_type": "text"
      },
      "cell_type": "markdown",
      "source": [
        "**while loops**"
      ]
    },
    {
      "metadata": {
        "id": "AcB2oRMTIUSd",
        "colab_type": "code",
        "colab": {}
      },
      "cell_type": "code",
      "source": [
        "i = 1\n",
        "while i < 100:\n",
        "    print(i**2)\n",
        "    i += i**2  # a += b is short for a = a + b"
      ],
      "execution_count": 0,
      "outputs": []
    },
    {
      "metadata": {
        "id": "HtoyP3XrIUSe",
        "colab_type": "text"
      },
      "cell_type": "markdown",
      "source": [
        "**continue** - skip the rest of a loop\n",
        "\n",
        "**break** - exit from the loop"
      ]
    },
    {
      "metadata": {
        "id": "FT7NjlomIUSf",
        "colab_type": "code",
        "colab": {}
      },
      "cell_type": "code",
      "source": [
        "for num in range(2, 10):\n",
        "    if num % 2 == 0:\n",
        "        continue # this jumps us back to the top\n",
        "    print(f\"Found {num}, an odd number\")"
      ],
      "execution_count": 0,
      "outputs": []
    },
    {
      "metadata": {
        "id": "xgkweK_KIUSg",
        "colab_type": "code",
        "colab": {}
      },
      "cell_type": "code",
      "source": [
        "n = 64\n",
        "for x in range(2, n):\n",
        "    if n % x == 0: # if n divisible by x\n",
        "        print(f'{n} equals {x} * {n // x}')\n",
        "        #break"
      ],
      "execution_count": 0,
      "outputs": []
    },
    {
      "metadata": {
        "id": "LxnpoFJ0IUSi",
        "colab_type": "text"
      },
      "cell_type": "markdown",
      "source": [
        "**pass** does nothing"
      ]
    },
    {
      "metadata": {
        "id": "BrTKuFQLIUSj",
        "colab_type": "code",
        "colab": {}
      },
      "cell_type": "code",
      "source": [
        "if False:\n",
        "    pass # to implement\n",
        "else:\n",
        "    print('True!')"
      ],
      "execution_count": 0,
      "outputs": []
    },
    {
      "metadata": {
        "id": "KgWdpKjuIUSl",
        "colab_type": "text"
      },
      "cell_type": "markdown",
      "source": [
        "# Exceptions"
      ]
    },
    {
      "metadata": {
        "scrolled": true,
        "id": "Hf1cnKREIUSl",
        "colab_type": "code",
        "colab": {}
      },
      "cell_type": "code",
      "source": [
        "100 / 0"
      ],
      "execution_count": 0,
      "outputs": []
    },
    {
      "metadata": {
        "id": "sm9NTZeyIUSn",
        "colab_type": "code",
        "colab": {}
      },
      "cell_type": "code",
      "source": [
        "try:\n",
        "    x = 100 / 0\n",
        "except ZeroDivisionError:\n",
        "    print(\"We divided by zero\")"
      ],
      "execution_count": 0,
      "outputs": []
    },
    {
      "metadata": {
        "id": "FntiUv_eIUSo",
        "colab_type": "text"
      },
      "cell_type": "markdown",
      "source": [
        "# Functions\n",
        "\n",
        "Functions are declared with the keyword `def`"
      ]
    },
    {
      "metadata": {
        "id": "7zce8QmYIUSp",
        "colab_type": "code",
        "colab": {}
      },
      "cell_type": "code",
      "source": [
        "# def tells python you're trying to declare a function\n",
        "def triangle_area(base, height):\n",
        "    return 0.5 * base * height\n",
        "\n",
        "triangle_area(1, 2)"
      ],
      "execution_count": 0,
      "outputs": []
    },
    {
      "metadata": {
        "id": "xZvixpxdIUSr",
        "colab_type": "code",
        "colab": {}
      },
      "cell_type": "code",
      "source": [
        "def triangle_area(base, height):\n",
        "    if base < 0 or height < 0:\n",
        "        raise ValueError(\"Base and height must be non-negative\")\n",
        "    return 0.5 * base * height\n",
        "\n",
        "triangle_area(-1, 2)"
      ],
      "execution_count": 0,
      "outputs": []
    },
    {
      "metadata": {
        "id": "6YA4fRzzIUSu",
        "colab_type": "code",
        "colab": {}
      },
      "cell_type": "code",
      "source": [
        "# everything in python is an object, and can be passed into a function\n",
        "def f(x):\n",
        "    return x+2\n",
        "\n",
        "def twice(f, x):\n",
        "    return f(f(x))\n",
        "\n",
        "twice(f, 2) # + 4"
      ],
      "execution_count": 0,
      "outputs": []
    },
    {
      "metadata": {
        "id": "9J2qH1cEIUSz",
        "colab_type": "code",
        "colab": {}
      },
      "cell_type": "code",
      "source": [
        "def n_apply(f, x, n):\n",
        "    \"\"\"applies f to x n times\"\"\"\n",
        "    for _ in range(n):  # _ is dummy variable in iteration\n",
        "        x = f(x)\n",
        "    return x\n",
        "\n",
        "n_apply(f, 1, 5) # 1 + 2*5"
      ],
      "execution_count": 0,
      "outputs": []
    },
    {
      "metadata": {
        "id": "YLB2-5u7IUS0",
        "colab_type": "code",
        "colab": {}
      },
      "cell_type": "code",
      "source": [
        "def g(a, x, b=0):\n",
        "    return a * x + b"
      ],
      "execution_count": 0,
      "outputs": []
    },
    {
      "metadata": {
        "id": "ZNSPtQw-IUS2",
        "colab_type": "code",
        "colab": {}
      },
      "cell_type": "code",
      "source": [
        "g(2, 5, 1)"
      ],
      "execution_count": 0,
      "outputs": []
    },
    {
      "metadata": {
        "id": "Qs0TUpBLIUS3",
        "colab_type": "code",
        "colab": {}
      },
      "cell_type": "code",
      "source": [
        "g(2, 5)"
      ],
      "execution_count": 0,
      "outputs": []
    },
    {
      "metadata": {
        "id": "QZ7XrzkaIUS5",
        "colab_type": "text"
      },
      "cell_type": "markdown",
      "source": [
        "# Exercise 1\n",
        "\n",
        "(10 minutes)\n",
        "\n",
        "1. Output the string \"Hello, World!\" using Python\n",
        "2. Import a Python Module\n",
        "    * Try importing the `math` module and printing $\\tan(1)$\n",
        "3. Numeric variables\n",
        "    * assign a variable $x$ to have value 1\n",
        "    * increment $x$ (add 1 to $x$)\n",
        "    * print the product of $x$ and 2\n",
        "4. Print every integer between 1 and 100, except:\n",
        "    * if it is a multiple of 3, print \"Fizz\"\n",
        "    * if it is a multiple of 5, print \"Buzz\"\n",
        "    * if it is a multiple of 3 and 5, print \"FizzBuzz\"\n",
        "5. Print every power of 2 less than 10,000\n",
        "6. Write a function that takes two inputs, $a$ and $b$ and returns the value of $a+2b$\n",
        "9. Write a function takes a number $n$ as input, and prints all [Fibonacci numbers](https://en.wikipedia.org/wiki/Fibonacci_number) less than $n$"
      ]
    },
    {
      "metadata": {
        "id": "lmcJMlWZIUS6",
        "colab_type": "text"
      },
      "cell_type": "markdown",
      "source": [
        "# Lists\n",
        "\n",
        "A list in Python is an ordered collection of objects"
      ]
    },
    {
      "metadata": {
        "id": "y6unNOgHIUS6",
        "colab_type": "code",
        "colab": {}
      },
      "cell_type": "code",
      "source": [
        "a = ['x', 1, 3.5]\n",
        "print(a)"
      ],
      "execution_count": 0,
      "outputs": []
    },
    {
      "metadata": {
        "id": "bYkXTjqDIUS8",
        "colab_type": "text"
      },
      "cell_type": "markdown",
      "source": [
        "You can iterate over lists in a very natural way"
      ]
    },
    {
      "metadata": {
        "id": "KaRCraxLIUS8",
        "colab_type": "code",
        "colab": {}
      },
      "cell_type": "code",
      "source": [
        "for elt in [\"step1\", \"step2\"]:\n",
        "    print(elt)"
      ],
      "execution_count": 0,
      "outputs": []
    },
    {
      "metadata": {
        "id": "ZReurOQUIUS_",
        "colab_type": "text"
      },
      "cell_type": "markdown",
      "source": [
        "Python indexing starts at 0."
      ]
    },
    {
      "metadata": {
        "id": "O06Me7StIUTB",
        "colab_type": "code",
        "colab": {}
      },
      "cell_type": "code",
      "source": [
        "a.remove?"
      ],
      "execution_count": 0,
      "outputs": []
    },
    {
      "metadata": {
        "id": "cxBRXNn5IUTE",
        "colab_type": "text"
      },
      "cell_type": "markdown",
      "source": [
        "You can append to lists using `.append()`, and do other operations, such as `push()`, `pop()`, `insert()`, etc."
      ]
    },
    {
      "metadata": {
        "id": "Kc66R9VMIUTF",
        "colab_type": "code",
        "colab": {}
      },
      "cell_type": "code",
      "source": [
        "a = []\n",
        "for i in range(10):\n",
        "    a.append(i**2)"
      ],
      "execution_count": 0,
      "outputs": []
    },
    {
      "metadata": {
        "id": "43rRQLaSIUTJ",
        "colab_type": "code",
        "colab": {}
      },
      "cell_type": "code",
      "source": [
        "while len(a) > 0:\n",
        "    elt = a.pop()\n",
        "    print(elt)"
      ],
      "execution_count": 0,
      "outputs": []
    },
    {
      "metadata": {
        "id": "A6kC8sRLIUTO",
        "colab_type": "code",
        "colab": {}
      },
      "cell_type": "code",
      "source": [
        "a"
      ],
      "execution_count": 0,
      "outputs": []
    },
    {
      "metadata": {
        "id": "cu--cp_SIUTR",
        "colab_type": "text"
      },
      "cell_type": "markdown",
      "source": [
        "Python terminology:\n",
        "* a list is a \"class\"\n",
        "* the variable `a` is an object, or instance of the class\n",
        "* `append()` is a method"
      ]
    },
    {
      "metadata": {
        "id": "qx8YA449IUTS",
        "colab_type": "text"
      },
      "cell_type": "markdown",
      "source": [
        "## List Comprehensions\n",
        "\n",
        "Python's list comprehensions let you create lists in a way that is reminiscent of set notation\n",
        "\n",
        "$$ S = \\{ \\sqrt{x} ~\\mid~ 0 \\le x \\le 20, x\\mod 3 = 0\\}$$"
      ]
    },
    {
      "metadata": {
        "id": "4lI5rlvJIUTU",
        "colab_type": "code",
        "colab": {}
      },
      "cell_type": "code",
      "source": [
        "S = [math.sqrt(x) for x in range(20) if x % 3 == 0]\n",
        "S"
      ],
      "execution_count": 0,
      "outputs": []
    },
    {
      "metadata": {
        "id": "kk8aI_GWIUTW",
        "colab_type": "code",
        "colab": {}
      },
      "cell_type": "code",
      "source": [
        "S = []\n",
        "for i in range(2):\n",
        "    for j in range(2):\n",
        "        for k in range(2):\n",
        "            S += [(i,j,k)]\n",
        "S"
      ],
      "execution_count": 0,
      "outputs": []
    },
    {
      "metadata": {
        "id": "1hMVB-ioIUTY",
        "colab_type": "code",
        "colab": {}
      },
      "cell_type": "code",
      "source": [
        "# you aren't restricted to a single for loop\n",
        "S = [(i,j,k) for i in range(2) for j in range(2) for k in range(2)]\n",
        "S"
      ],
      "execution_count": 0,
      "outputs": []
    },
    {
      "metadata": {
        "id": "OXSCGpcTIUTb",
        "colab_type": "text"
      },
      "cell_type": "markdown",
      "source": [
        "Syntax is generally\n",
        "```python3\n",
        "S = [<elt> <for statement> <conditional>]\n",
        "```"
      ]
    },
    {
      "metadata": {
        "id": "F0sIS7XMIUTc",
        "colab_type": "text"
      },
      "cell_type": "markdown",
      "source": [
        "# Other Collections\n",
        "\n",
        "We've seen the `list` class, which is ordered, indexed, and mutable.  There are other Python collections that you may find useful:\n",
        "* `tuple` which is ordered, indexed, and immutable\n",
        "* `set` which is unordered, unindexed, mutable, and doesn't allow for duplicate elements\n",
        "* `dict` (dictionary), which is unordered, indexed, and mutable, with no duplicate keys."
      ]
    },
    {
      "metadata": {
        "id": "L99UbdXsIUTc",
        "colab_type": "code",
        "colab": {}
      },
      "cell_type": "code",
      "source": [
        "a_tuple = (1, 2, 4)\n",
        "a_tuple[0] = 3"
      ],
      "execution_count": 0,
      "outputs": []
    },
    {
      "metadata": {
        "id": "wm60J_ciIUTe",
        "colab_type": "code",
        "colab": {}
      },
      "cell_type": "code",
      "source": [
        "a_set = {5, 3, 2, 5}\n",
        "a_set"
      ],
      "execution_count": 0,
      "outputs": []
    },
    {
      "metadata": {
        "id": "YlRRc8RXIUTf",
        "colab_type": "code",
        "colab": {}
      },
      "cell_type": "code",
      "source": [
        "a_dict = {}\n",
        "a_dict[5] = 12\n",
        "a_dict[\"key_2\"] = 27\n",
        "a_dict[\"key_3\"] = [13, \"value\"]\n",
        "a_dict"
      ],
      "execution_count": 0,
      "outputs": []
    },
    {
      "metadata": {
        "id": "CuJAu7ztIUTg",
        "colab_type": "text"
      },
      "cell_type": "markdown",
      "source": [
        "# Exercise 2\n",
        "\n",
        "**Lists**\n",
        "1. Create a list `['a', 'b', 'c']`\n",
        "2. use the `insert()` method to put the element `'d'` at index 1\n",
        "3. use the `remove()` method to delete the element `'b'` in the list\n",
        "\n",
        "**List comprehensions**\n",
        "1. What does the following list contain?\n",
        "```python \n",
        "X = [i for i in range(100)]\n",
        "```\n",
        "2. Interpret the following set as a list comprehension:\n",
        "$S_1 = \\{x\\in X \\mid x\\mod 5 = 2\\}$\n",
        "3. Intepret the following set as a list comprehension: $S_2 = \\{x \\in S_1 \\mid x \\text{ is even}\\}$\n",
        "4. generate the set of all tuples $(x,y)$ where $x\\in S_1$, $y\\in S_2$.\n",
        "\n",
        "**Other Collections**\n",
        "1. Try creating another type of collection\n",
        "2. try iterating over it."
      ]
    },
    {
      "metadata": {
        "id": "o7HYck9lIUTj",
        "colab_type": "text"
      },
      "cell_type": "markdown",
      "source": [
        "# Classes\n",
        "\n",
        "Classes let you abstract away details while programming."
      ]
    },
    {
      "metadata": {
        "id": "zNIuqzggIUTj",
        "colab_type": "code",
        "colab": {}
      },
      "cell_type": "code",
      "source": [
        "class Animal:\n",
        "    def say_hi(self):\n",
        "        print(\"Hello!\")"
      ],
      "execution_count": 0,
      "outputs": []
    },
    {
      "metadata": {
        "id": "JhN_VFVFIUTl",
        "colab_type": "code",
        "colab": {}
      },
      "cell_type": "code",
      "source": [
        "x = Animal()\n",
        "x.say_hi()"
      ],
      "execution_count": 0,
      "outputs": []
    },
    {
      "metadata": {
        "id": "GOML-aeJIUTm",
        "colab_type": "text"
      },
      "cell_type": "markdown",
      "source": [
        "## Example: Rational Numbers\n",
        "\n",
        "Here we'l make a class that holds rational numbers (fractions).  That is, numbers of the form\n",
        "$$r = \\frac{p}{q}$$\n",
        "where $p$ and $q$ are integers"
      ]
    },
    {
      "metadata": {
        "id": "6xtNcjIzIUTm",
        "colab_type": "code",
        "colab": {}
      },
      "cell_type": "code",
      "source": [
        "class Rational:\n",
        "    def __init__(self, p, q=1):\n",
        "    \n",
        "        if q == 0:\n",
        "            raise ValueError('Denominator must not be zero')\n",
        "        if not isinstance(p, int):\n",
        "            raise ValueError('Numerator must be an integer')\n",
        "        if not isinstance(q, int):\n",
        "            raise ValueError('Denominator must be an integer')\n",
        "        \n",
        "        g = math.gcd(p, q)\n",
        "        \n",
        "        self.p = p // g # integer division\n",
        "        self.q = q // g\n",
        "    \n",
        "    # method to convert rational to float\n",
        "    def __float__(self):\n",
        "        return self.p / self.q\n",
        "    \n",
        "    # method to convert rational to string for printing\n",
        "    def __str__(self):\n",
        "        return f'{self.p}/{self.q}'\n",
        "    \n",
        "    def __repr__(self):\n",
        "        return f'Rational({self.p}, {self.q})'\n"
      ],
      "execution_count": 0,
      "outputs": []
    },
    {
      "metadata": {
        "id": "a0lxzdxhIUTp",
        "colab_type": "code",
        "colab": {}
      },
      "cell_type": "code",
      "source": [
        "a = Rational(6, 4)\n",
        "b = Rational(3, 2)\n",
        "\n",
        "print(type(a))\n",
        "print(f\"a = {a}\")\n",
        "print(f\"b = {b}\")\n",
        "print([a,b])\n",
        "print(f\"float(a) = {float(a)}\")"
      ],
      "execution_count": 0,
      "outputs": []
    },
    {
      "metadata": {
        "id": "Gn-PJMBqIUTq",
        "colab_type": "code",
        "colab": {}
      },
      "cell_type": "code",
      "source": [
        "a + b"
      ],
      "execution_count": 0,
      "outputs": []
    },
    {
      "metadata": {
        "id": "o7_dYcUsIUTs",
        "colab_type": "text"
      },
      "cell_type": "markdown",
      "source": [
        "You can do cool things like overload math operators.  This lets you write code that looks like you would write math.  Recall\n",
        "\n",
        "$$ \\frac{p_1}{q_1} + \\frac{p_2}{q_2} = \\frac{p_1 q_2 + p_2 q_1}{q_1 q_2}$$\n",
        "\n",
        "We'll see this next time!"
      ]
    },
    {
      "metadata": {
        "id": "OZ4k9JhLIUTt",
        "colab_type": "code",
        "colab": {}
      },
      "cell_type": "code",
      "source": [
        ""
      ],
      "execution_count": 0,
      "outputs": []
    }
  ]
}